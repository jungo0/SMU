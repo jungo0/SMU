{
 "cells": [
  {
   "cell_type": "markdown",
   "id": "surprising-hudson",
   "metadata": {},
   "source": [
    "# 변수가 한 개인 Simple Linear regression"
   ]
  },
  {
   "cell_type": "code",
   "execution_count": 183,
   "id": "attached-zimbabwe",
   "metadata": {},
   "outputs": [],
   "source": [
    "#출처 : https://blog.contactsunny.com/data-science/linear-regression-in-python-using-scikit-learn\n",
    "\n",
    "import numpy\n",
    "import matplotlib.pyplot as plot\n",
    "import pandas\n",
    "from sklearn.linear_model import LinearRegression"
   ]
  },
  {
   "cell_type": "code",
   "execution_count": null,
   "id": "diagnostic-madness",
   "metadata": {},
   "outputs": [],
   "source": []
  },
  {
   "cell_type": "code",
   "execution_count": 196,
   "id": "inclusive-humidity",
   "metadata": {
    "scrolled": true
   },
   "outputs": [],
   "source": [
    "# Import the dataset\n",
    "# https://www.kaggle.com/rohankayan/years-of-experience-and-salary-dataset\n",
    "#dataset = pandas.read_csv('./ss/Salary_Data.csv')\n",
    "df = pd.DataFrame(np.random.randint(0,1000,size=(100, 2)), columns=list('XY'))"
   ]
  },
  {
   "cell_type": "code",
   "execution_count": 197,
   "id": "polish-newsletter",
   "metadata": {
    "scrolled": true
   },
   "outputs": [
    {
     "data": {
      "text/html": [
       "<div>\n",
       "<style scoped>\n",
       "    .dataframe tbody tr th:only-of-type {\n",
       "        vertical-align: middle;\n",
       "    }\n",
       "\n",
       "    .dataframe tbody tr th {\n",
       "        vertical-align: top;\n",
       "    }\n",
       "\n",
       "    .dataframe thead th {\n",
       "        text-align: right;\n",
       "    }\n",
       "</style>\n",
       "<table border=\"1\" class=\"dataframe\">\n",
       "  <thead>\n",
       "    <tr style=\"text-align: right;\">\n",
       "      <th></th>\n",
       "      <th>X</th>\n",
       "      <th>Y</th>\n",
       "    </tr>\n",
       "  </thead>\n",
       "  <tbody>\n",
       "    <tr>\n",
       "      <th>0</th>\n",
       "      <td>303</td>\n",
       "      <td>419</td>\n",
       "    </tr>\n",
       "    <tr>\n",
       "      <th>1</th>\n",
       "      <td>256</td>\n",
       "      <td>978</td>\n",
       "    </tr>\n",
       "    <tr>\n",
       "      <th>2</th>\n",
       "      <td>713</td>\n",
       "      <td>859</td>\n",
       "    </tr>\n",
       "    <tr>\n",
       "      <th>3</th>\n",
       "      <td>640</td>\n",
       "      <td>972</td>\n",
       "    </tr>\n",
       "    <tr>\n",
       "      <th>4</th>\n",
       "      <td>686</td>\n",
       "      <td>101</td>\n",
       "    </tr>\n",
       "    <tr>\n",
       "      <th>...</th>\n",
       "      <td>...</td>\n",
       "      <td>...</td>\n",
       "    </tr>\n",
       "    <tr>\n",
       "      <th>95</th>\n",
       "      <td>201</td>\n",
       "      <td>700</td>\n",
       "    </tr>\n",
       "    <tr>\n",
       "      <th>96</th>\n",
       "      <td>529</td>\n",
       "      <td>181</td>\n",
       "    </tr>\n",
       "    <tr>\n",
       "      <th>97</th>\n",
       "      <td>173</td>\n",
       "      <td>563</td>\n",
       "    </tr>\n",
       "    <tr>\n",
       "      <th>98</th>\n",
       "      <td>359</td>\n",
       "      <td>753</td>\n",
       "    </tr>\n",
       "    <tr>\n",
       "      <th>99</th>\n",
       "      <td>932</td>\n",
       "      <td>639</td>\n",
       "    </tr>\n",
       "  </tbody>\n",
       "</table>\n",
       "<p>100 rows × 2 columns</p>\n",
       "</div>"
      ],
      "text/plain": [
       "      X    Y\n",
       "0   303  419\n",
       "1   256  978\n",
       "2   713  859\n",
       "3   640  972\n",
       "4   686  101\n",
       "..  ...  ...\n",
       "95  201  700\n",
       "96  529  181\n",
       "97  173  563\n",
       "98  359  753\n",
       "99  932  639\n",
       "\n",
       "[100 rows x 2 columns]"
      ]
     },
     "execution_count": 197,
     "metadata": {},
     "output_type": "execute_result"
    }
   ],
   "source": [
    "df"
   ]
  },
  {
   "cell_type": "code",
   "execution_count": 200,
   "id": "efficient-folks",
   "metadata": {},
   "outputs": [],
   "source": [
    "#xTrain = dataset.iloc[:, :-1].values\n",
    "#yTrain = dataset.iloc[:, 1].values"
   ]
  },
  {
   "cell_type": "code",
   "execution_count": 202,
   "id": "classified-pierre",
   "metadata": {},
   "outputs": [],
   "source": [
    "xTrain = df.iloc[:, :-1].values\n",
    "yTrain = df.iloc[:, 1].values"
   ]
  },
  {
   "cell_type": "code",
   "execution_count": 203,
   "id": "small-blackberry",
   "metadata": {
    "scrolled": true
   },
   "outputs": [
    {
     "data": {
      "text/plain": [
       "array([[303],\n",
       "       [256],\n",
       "       [713],\n",
       "       [640],\n",
       "       [686],\n",
       "       [345],\n",
       "       [340],\n",
       "       [680],\n",
       "       [948],\n",
       "       [926],\n",
       "       [ 20],\n",
       "       [935],\n",
       "       [581],\n",
       "       [234],\n",
       "       [713],\n",
       "       [327],\n",
       "       [304],\n",
       "       [977],\n",
       "       [304],\n",
       "       [775],\n",
       "       [880],\n",
       "       [168],\n",
       "       [ 59],\n",
       "       [473],\n",
       "       [217],\n",
       "       [497],\n",
       "       [786],\n",
       "       [583],\n",
       "       [  3],\n",
       "       [175],\n",
       "       [ 31],\n",
       "       [672],\n",
       "       [912],\n",
       "       [165],\n",
       "       [787],\n",
       "       [662],\n",
       "       [252],\n",
       "       [385],\n",
       "       [919],\n",
       "       [255],\n",
       "       [491],\n",
       "       [221],\n",
       "       [718],\n",
       "       [692],\n",
       "       [867],\n",
       "       [814],\n",
       "       [128],\n",
       "       [174],\n",
       "       [482],\n",
       "       [396],\n",
       "       [723],\n",
       "       [  4],\n",
       "       [129],\n",
       "       [ 39],\n",
       "       [855],\n",
       "       [292],\n",
       "       [978],\n",
       "       [621],\n",
       "       [354],\n",
       "       [611],\n",
       "       [957],\n",
       "       [820],\n",
       "       [837],\n",
       "       [796],\n",
       "       [233],\n",
       "       [514],\n",
       "       [537],\n",
       "       [998],\n",
       "       [270],\n",
       "       [122],\n",
       "       [169],\n",
       "       [929],\n",
       "       [ 49],\n",
       "       [343],\n",
       "       [146],\n",
       "       [919],\n",
       "       [311],\n",
       "       [280],\n",
       "       [336],\n",
       "       [101],\n",
       "       [441],\n",
       "       [766],\n",
       "       [704],\n",
       "       [376],\n",
       "       [837],\n",
       "       [190],\n",
       "       [410],\n",
       "       [771],\n",
       "       [241],\n",
       "       [480],\n",
       "       [728],\n",
       "       [961],\n",
       "       [437],\n",
       "       [256],\n",
       "       [615],\n",
       "       [201],\n",
       "       [529],\n",
       "       [173],\n",
       "       [359],\n",
       "       [932]])"
      ]
     },
     "execution_count": 203,
     "metadata": {},
     "output_type": "execute_result"
    }
   ],
   "source": [
    "xTrain"
   ]
  },
  {
   "cell_type": "code",
   "execution_count": 204,
   "id": "criminal-flush",
   "metadata": {
    "scrolled": true
   },
   "outputs": [
    {
     "data": {
      "text/plain": [
       "array([419, 978, 859, 972, 101, 131,  27, 895, 927,  26, 894, 202, 925,\n",
       "        68, 283, 667, 896, 203, 987, 720, 871, 167,  64, 438, 950, 212,\n",
       "        60, 201, 278, 576, 405, 427, 293, 715, 206, 407, 290, 729, 574,\n",
       "       713, 900, 951,  42, 109, 666, 511, 735, 673, 143, 103,  95, 301,\n",
       "       237, 680, 146, 601, 393, 998, 154, 615, 636, 854, 738, 582, 424,\n",
       "       292, 580, 330, 386, 254, 796, 300, 852, 315,  27, 463, 206, 364,\n",
       "       883, 871, 277, 688, 633, 396, 232, 704, 153, 527, 647, 240, 254,\n",
       "        51, 703, 546, 530, 700, 181, 563, 753, 639])"
      ]
     },
     "execution_count": 204,
     "metadata": {},
     "output_type": "execute_result"
    }
   ],
   "source": [
    "yTrain"
   ]
  },
  {
   "cell_type": "code",
   "execution_count": 205,
   "id": "refined-implement",
   "metadata": {},
   "outputs": [],
   "source": [
    "linearRegressor = LinearRegression()"
   ]
  },
  {
   "cell_type": "code",
   "execution_count": 206,
   "id": "natural-nicholas",
   "metadata": {},
   "outputs": [
    {
     "data": {
      "text/plain": [
       "LinearRegression()"
      ]
     },
     "execution_count": 206,
     "metadata": {},
     "output_type": "execute_result"
    }
   ],
   "source": [
    "linearRegressor.fit(xTrain, yTrain)"
   ]
  },
  {
   "cell_type": "code",
   "execution_count": 207,
   "id": "interesting-contest",
   "metadata": {},
   "outputs": [],
   "source": [
    "#yPrediction = linearRegressor.predict(xTest)"
   ]
  },
  {
   "cell_type": "code",
   "execution_count": 208,
   "id": "undefined-skating",
   "metadata": {
    "scrolled": false
   },
   "outputs": [
    {
     "data": {
      "image/png": "[encoded data removed]",
      "text/plain": [
       "<Figure size 432x288 with 1 Axes>"
      ]
     },
     "metadata": {
      "needs_background": "light"
     },
     "output_type": "display_data"
    }
   ],
   "source": [
    "plot.scatter(xTrain, yTrain, color = 'blue')\n",
    "plot.plot(xTrain, linearRegressor.predict(xTrain), color = 'green')\n",
    "plot.title('Salary vs Experience')\n",
    "plot.xlabel('Years of Experience')\n",
    "plot.ylabel('Salary')\n",
    "plot.show()"
   ]
  },
  {
   "cell_type": "code",
   "execution_count": 209,
   "id": "heard-contemporary",
   "metadata": {},
   "outputs": [
    {
     "name": "stdout",
     "output_type": "stream",
     "text": [
      "[-0.12095509]\n",
      "543.7244578093351\n"
     ]
    }
   ],
   "source": [
    "#coefficient : 계수를 의미\n",
    "print(linearRegressor.coef_)\n",
    "print(linearRegressor.intercept_)"
   ]
  },
  {
   "cell_type": "code",
   "execution_count": null,
   "id": "loving-duncan",
   "metadata": {},
   "outputs": [],
   "source": []
  },
  {
   "cell_type": "code",
   "execution_count": null,
   "id": "critical-local",
   "metadata": {},
   "outputs": [],
   "source": []
  },
  {
   "cell_type": "markdown",
   "id": "psychological-germany",
   "metadata": {},
   "source": [
    "# Q. 랜덤하게 각각 100개의 X, Y값을 선언한 후 Linear Regression 및 plot(graph)를 그려보세요"
   ]
  },
  {
   "cell_type": "markdown",
   "id": "canadian-diving",
   "metadata": {},
   "source": []
  },
  {
   "cell_type": "markdown",
   "id": "jewish-beaver",
   "metadata": {},
   "source": []
  },
  {
   "cell_type": "markdown",
   "id": "russian-territory",
   "metadata": {},
   "source": []
  },
  {
   "cell_type": "code",
   "execution_count": null,
   "id": "constant-mobile",
   "metadata": {},
   "outputs": [],
   "source": []
  },
  {
   "cell_type": "code",
   "execution_count": null,
   "id": "impossible-construction",
   "metadata": {},
   "outputs": [],
   "source": []
  },
  {
   "cell_type": "code",
   "execution_count": null,
   "id": "hundred-liabilities",
   "metadata": {},
   "outputs": [],
   "source": []
  },
  {
   "cell_type": "code",
   "execution_count": null,
   "id": "historical-application",
   "metadata": {},
   "outputs": [],
   "source": [
    "df = pd.DataFrame(np.random.randint(0,1000,size=(100, 2)), columns=list('XY'))"
   ]
  },
  {
   "cell_type": "markdown",
   "id": "informational-translation",
   "metadata": {},
   "source": []
  },
  {
   "cell_type": "markdown",
   "id": "junior-ultimate",
   "metadata": {},
   "source": []
  },
  {
   "cell_type": "markdown",
   "id": "temporal-fetish",
   "metadata": {},
   "source": []
  },
  {
   "cell_type": "markdown",
   "id": "little-coverage",
   "metadata": {},
   "source": [
    "# Multi Linear regression"
   ]
  },
  {
   "cell_type": "markdown",
   "id": "hawaiian-small",
   "metadata": {},
   "source": [
    "https://towardsdatascience.com/simple-and-multiple-linear-regression-with-python-c9ab422ec29c"
   ]
  },
  {
   "cell_type": "markdown",
   "id": "sapphire-reggae",
   "metadata": {},
   "source": []
  },
  {
   "cell_type": "markdown",
   "id": "sufficient-romantic",
   "metadata": {},
   "source": [
    "# 다른 예시"
   ]
  },
  {
   "cell_type": "markdown",
   "id": "reported-strain",
   "metadata": {},
   "source": [
    "https://medium.com/@a0981639183/use-a-multiple-linear-regression-model-to-investigate-what-factors-most-affect-a-restaurants-yelp-d00b8dd264f0"
   ]
  },
  {
   "cell_type": "markdown",
   "id": "thousand-insured",
   "metadata": {},
   "source": [
    "https://dacon.io/competitions/official/235590/codeshare/1077"
   ]
  }
 ],
 "metadata": {
  "kernelspec": {
   "display_name": "Python 3",
   "language": "python",
   "name": "python3"
  },
  "language_info": {
   "codemirror_mode": {
    "name": "ipython",
    "version": 3
   },
   "file_extension": ".py",
   "mimetype": "text/x-python",
   "name": "python",
   "nbconvert_exporter": "python",
   "pygments_lexer": "ipython3",
   "version": "3.8.5"
  }
 },
 "nbformat": 4,
 "nbformat_minor": 5
}
