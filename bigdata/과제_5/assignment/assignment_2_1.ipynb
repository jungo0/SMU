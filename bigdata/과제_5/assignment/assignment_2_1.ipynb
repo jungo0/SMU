{
 "cells": [
  {
   "cell_type": "markdown",
   "metadata": {},
   "source": [
    "python doc : https://docs.python.org/3/tutorial/introduction.html?highlight=list%20slice"
   ]
  },
  {
   "cell_type": "markdown",
   "metadata": {
    "colab_type": "text",
    "id": "PJfwc_gNmquL"
   },
   "source": [
    "# 1. 리스트와 관련된 문제입니다. 각각의 출력이 나오도록 빈칸을 채우세요"
   ]
  },
  {
   "cell_type": "code",
   "execution_count": 20,
   "metadata": {
    "colab": {},
    "colab_type": "code",
    "id": "0vPntW2CmgQg"
   },
   "outputs": [],
   "source": [
    "fruits = [\"apple\", \"banana\", \"tomato\", \"Watermelon\", \"melon\", \"orange\"]"
   ]
  },
  {
   "cell_type": "markdown",
   "metadata": {
    "colab_type": "text",
    "id": "hpTLSH6PoZjf"
   },
   "source": [
    "리스트 슬라이싱 방법을 사용해서 아래 결과 값이 나오게 하세요"
   ]
  },
  {
   "cell_type": "code",
   "execution_count": 22,
   "metadata": {},
   "outputs": [
    {
     "data": {
      "text/plain": [
       "['apple', 'banana', 'tomato']"
      ]
     },
     "execution_count": 22,
     "metadata": {},
     "output_type": "execute_result"
    }
   ],
   "source": [
    "#fruits[:3]\n",
    "fruits[0:3]"
   ]
  },
  {
   "cell_type": "markdown",
   "metadata": {
    "colab": {
     "base_uri": "https://localhost:8080/",
     "height": 34
    },
    "colab_type": "code",
    "id": "eCpBWG8vnb74",
    "outputId": "2ce55a8d-c645-4c37-916a-db3afb132676"
   },
   "source": [
    "#### ['apple', 'banana', 'tomato']"
   ]
  },
  {
   "cell_type": "code",
   "execution_count": 15,
   "metadata": {},
   "outputs": [
    {
     "data": {
      "text/plain": [
       "['Watermelon', 'melon']"
      ]
     },
     "execution_count": 15,
     "metadata": {},
     "output_type": "execute_result"
    }
   ],
   "source": [
    "#fruits[3:5]\n",
    "#fruits[3:-1]\n",
    "fruits[-3:-1]"
   ]
  },
  {
   "cell_type": "markdown",
   "metadata": {
    "colab": {
     "base_uri": "https://localhost:8080/",
     "height": 34
    },
    "colab_type": "code",
    "id": "tTsSqulEnjMa",
    "outputId": "b8edddfe-8156-4327-f049-ff2619e82f53"
   },
   "source": [
    "#### ['Watermelon', 'melon']"
   ]
  },
  {
   "cell_type": "code",
   "execution_count": 48,
   "metadata": {},
   "outputs": [
    {
     "data": {
      "text/plain": [
       "['Watermelon', 'melon', 'orange']"
      ]
     },
     "execution_count": 48,
     "metadata": {},
     "output_type": "execute_result"
    }
   ],
   "source": [
    "#fruits[3:]\n",
    "fruits[3:6]"
   ]
  },
  {
   "cell_type": "markdown",
   "metadata": {
    "colab": {
     "base_uri": "https://localhost:8080/",
     "height": 34
    },
    "colab_type": "code",
    "id": "iqrFldcennGD",
    "outputId": "0477a47f-1d14-4c3e-cd5b-1ae9b93c29d1"
   },
   "source": [
    "#### ['Watermelon', 'melon', 'orange']"
   ]
  },
  {
   "cell_type": "markdown",
   "metadata": {
    "colab_type": "text",
    "id": "jafQODVbonHT"
   },
   "source": [
    "리스트에 mango, lemon 을 추가하세요"
   ]
  },
  {
   "cell_type": "code",
   "execution_count": 31,
   "metadata": {
    "colab": {},
    "colab_type": "code",
    "id": "Z_8Aun84pCUK"
   },
   "outputs": [
    {
     "name": "stdout",
     "output_type": "stream",
     "text": [
      "['apple', 'banana', 'tomato', 'Watermelon', 'melon', 'orange', 'mango', 'lemon']\n"
     ]
    }
   ],
   "source": [
    "# 리스트에 하나씩 추가\n",
    "\n",
    "fruits.append('mango')\n",
    "fruits.append('lemon')\n",
    "\n",
    "print(fruits)"
   ]
  },
  {
   "cell_type": "code",
   "execution_count": 24,
   "metadata": {},
   "outputs": [
    {
     "name": "stdout",
     "output_type": "stream",
     "text": [
      "['apple', 'banana', 'tomato', 'Watermelon', 'melon', 'orange', 'mango', 'lemon']\n"
     ]
    }
   ],
   "source": [
    "# 리스트를 연결하여 확장\n",
    "\n",
    "fruits.extend(['mango', 'lemon'])\n",
    "\n",
    "print(fruits)"
   ]
  },
  {
   "cell_type": "code",
   "execution_count": 4,
   "metadata": {},
   "outputs": [
    {
     "name": "stdout",
     "output_type": "stream",
     "text": [
      "['apple', 'banana', 'tomato', 'Watermelon', 'melon', 'orange', 'mango', 'lemon']\n"
     ]
    }
   ],
   "source": [
    "# 특정 인덱스에 요소 추가\n",
    "\n",
    "fruits.insert(6, 'mango')\n",
    "fruits.insert(7, 'lemon')\n",
    "\n",
    "print(fruits)"
   ]
  },
  {
   "cell_type": "code",
   "execution_count": 32,
   "metadata": {
    "colab": {
     "base_uri": "https://localhost:8080/",
     "height": 34
    },
    "colab_type": "code",
    "id": "DYhVabBBpIZx",
    "outputId": "814fa0db-578a-4a8d-b696-38c115b06ddd"
   },
   "outputs": [
    {
     "name": "stdout",
     "output_type": "stream",
     "text": [
      "['apple', 'banana', 'tomato', 'Watermelon', 'melon', 'orange', 'mango', 'lemon']\n"
     ]
    }
   ],
   "source": [
    "print (fruits)"
   ]
  },
  {
   "cell_type": "markdown",
   "metadata": {
    "colab_type": "text",
    "id": "svITePj7pQsj"
   },
   "source": [
    "리스트에서 banana와 watermelon을 제거하세요"
   ]
  },
  {
   "cell_type": "code",
   "execution_count": 16,
   "metadata": {},
   "outputs": [],
   "source": [
    "# remove를 이용한 원소 삭제\n",
    "\n",
    "fruits.remove('banana')\n",
    "fruits.remove('Watermelon')"
   ]
  },
  {
   "cell_type": "code",
   "execution_count": 18,
   "metadata": {},
   "outputs": [
    {
     "name": "stdout",
     "output_type": "stream",
     "text": [
      "['apple', 'tomato', 'melon', 'orange']\n"
     ]
    }
   ],
   "source": [
    "print (fruits)"
   ]
  },
  {
   "cell_type": "code",
   "execution_count": 11,
   "metadata": {},
   "outputs": [],
   "source": [
    "# del을 이용한 삭제\n",
    "\n",
    "del fruits[3]\n",
    "del fruits[1]"
   ]
  },
  {
   "cell_type": "code",
   "execution_count": 17,
   "metadata": {
    "colab": {
     "base_uri": "https://localhost:8080/",
     "height": 34
    },
    "colab_type": "code",
    "id": "tpbY3smYpZu-",
    "outputId": "9dd337b6-b97f-41b2-b6fe-c668512600a3"
   },
   "outputs": [
    {
     "name": "stdout",
     "output_type": "stream",
     "text": [
      "['apple', 'tomato', 'melon', 'orange']\n"
     ]
    }
   ],
   "source": [
    "print (fruits)"
   ]
  },
  {
   "cell_type": "markdown",
   "metadata": {
    "colab_type": "text",
    "id": "uogCcACOpgRn"
   },
   "source": [
    "# 2. 아래 값들을 가지는 과일 가격을 딕셔너리를 구성하세요.\n",
    " apple : 1000, banana : 1200, tomato : 700, watermelon : 2000, orange : 1500"
   ]
  },
  {
   "cell_type": "code",
   "execution_count": 36,
   "metadata": {
    "colab": {},
    "colab_type": "code",
    "id": "_BDwcsRMpaiL"
   },
   "outputs": [
    {
     "name": "stdout",
     "output_type": "stream",
     "text": [
      "{'apple': 1000, 'banana': 1200, 'tomato': 700, 'watermelon': 2000, 'orange': 1500}\n"
     ]
    }
   ],
   "source": [
    "fruits_dic = {'apple' : 1000, 'banana' : 1200, 'tomato' : 700, 'watermelon' : 2000, 'orange' : 1500}\n",
    "\n",
    "print(fruits_dic)"
   ]
  },
  {
   "cell_type": "code",
   "execution_count": 37,
   "metadata": {
    "colab": {
     "base_uri": "https://localhost:8080/",
     "height": 34
    },
    "colab_type": "code",
    "id": "UKWdBzsoroio",
    "outputId": "6d42864a-6f36-46f1-e6aa-e25be7376cac"
   },
   "outputs": [
    {
     "name": "stdout",
     "output_type": "stream",
     "text": [
      "{'apple': 1000, 'banana': 1200, 'tomato': 700, 'watermelon': 2000, 'orange': 1500}\n"
     ]
    }
   ],
   "source": [
    "print (fruits_dic)"
   ]
  },
  {
   "cell_type": "markdown",
   "metadata": {
    "colab_type": "text",
    "id": "6kXwzZQYr3XS"
   },
   "source": [
    "tomato의 가격을 출력하세요"
   ]
  },
  {
   "cell_type": "code",
   "execution_count": 38,
   "metadata": {
    "colab": {
     "base_uri": "https://localhost:8080/",
     "height": 34
    },
    "colab_type": "code",
    "id": "BU1NlpdarqYy",
    "outputId": "70230e78-bbfd-4c2d-c414-380905cf2715"
   },
   "outputs": [
    {
     "name": "stdout",
     "output_type": "stream",
     "text": [
      "700\n"
     ]
    }
   ],
   "source": [
    "print(fruits_dic['tomato'])"
   ]
  },
  {
   "cell_type": "markdown",
   "metadata": {
    "colab_type": "text",
    "id": "ogurh3UlsBdD"
   },
   "source": [
    "watermelon의 가격을 3000으로 수정하세요"
   ]
  },
  {
   "cell_type": "code",
   "execution_count": 39,
   "metadata": {
    "colab": {},
    "colab_type": "code",
    "id": "3AaAUv4nrxRb"
   },
   "outputs": [
    {
     "name": "stdout",
     "output_type": "stream",
     "text": [
      "{'apple': 1000, 'banana': 1200, 'tomato': 700, 'watermelon': 3000, 'orange': 1500}\n"
     ]
    }
   ],
   "source": [
    "fruits_dic['watermelon'] = 3000\n",
    "\n",
    "print(fruits_dic)"
   ]
  },
  {
   "cell_type": "code",
   "execution_count": 40,
   "metadata": {
    "colab": {
     "base_uri": "https://localhost:8080/",
     "height": 34
    },
    "colab_type": "code",
    "id": "gLjER6u_sIqs",
    "outputId": "327cf462-f255-41d6-ba13-4730d384a5c6"
   },
   "outputs": [
    {
     "name": "stdout",
     "output_type": "stream",
     "text": [
      "{'apple': 1000, 'banana': 1200, 'tomato': 700, 'watermelon': 3000, 'orange': 1500}\n"
     ]
    }
   ],
   "source": [
    "print (fruits_dic)"
   ]
  },
  {
   "cell_type": "markdown",
   "metadata": {
    "colab_type": "text",
    "id": "8YqRqq9KsW98"
   },
   "source": [
    "아래의 정보를 딕셔너리에 추가하세요.\n",
    " - mango : 4000, lemon : 4200 "
   ]
  },
  {
   "cell_type": "code",
   "execution_count": 43,
   "metadata": {
    "colab": {},
    "colab_type": "code",
    "id": "2tx46xaLsLWd"
   },
   "outputs": [
    {
     "name": "stdout",
     "output_type": "stream",
     "text": [
      "{'apple': 1000, 'banana': 1200, 'tomato': 700, 'watermelon': 3000, 'orange': 1500, 'mango': 4000, 'lemon': 4200}\n"
     ]
    }
   ],
   "source": [
    "fruits_dic['mango'] = 4000\n",
    "fruits_dic['lemon'] = 4200\n",
    "\n",
    "print(fruits_dic)"
   ]
  },
  {
   "cell_type": "code",
   "execution_count": 44,
   "metadata": {
    "colab": {
     "base_uri": "https://localhost:8080/",
     "height": 54
    },
    "colab_type": "code",
    "id": "QvTaaWgCs1ef",
    "outputId": "fea7ccbb-d139-4007-ef44-2346d0fd51d4"
   },
   "outputs": [
    {
     "name": "stdout",
     "output_type": "stream",
     "text": [
      "{'apple': 1000, 'banana': 1200, 'tomato': 700, 'watermelon': 3000, 'orange': 1500, 'mango': 4000, 'lemon': 4200}\n"
     ]
    }
   ],
   "source": [
    "print (fruits_dic)"
   ]
  },
  {
   "cell_type": "markdown",
   "metadata": {
    "colab_type": "text",
    "id": "7AEASvwks63g"
   },
   "source": [
    "# 3. For 문을 사용해서 아래 문양을 만드세요"
   ]
  },
  {
   "cell_type": "code",
   "execution_count": 19,
   "metadata": {
    "colab": {
     "base_uri": "https://localhost:8080/",
     "height": 170
    },
    "colab_type": "code",
    "id": "tsNZzK6btFBw",
    "outputId": "04d599ed-3409-47f4-a7d9-53d142ff1c4d"
   },
   "outputs": [
    {
     "name": "stdout",
     "output_type": "stream",
     "text": [
      "          \n",
      "         *\n",
      "        ***\n",
      "       *****\n",
      "      *******\n",
      "     *********\n",
      "    ***********\n",
      "   *************\n",
      "  ***************\n",
      " *****************\n"
     ]
    }
   ],
   "source": [
    "for i in range(10):\n",
    "    print(' ' * (10 - i), end='')\n",
    "    print('*' * ((2 * i) - 1))"
   ]
  },
  {
   "cell_type": "code",
   "execution_count": null,
   "metadata": {},
   "outputs": [],
   "source": []
  }
 ],
 "metadata": {
  "colab": {
   "collapsed_sections": [],
   "name": "Homework.ipynb",
   "provenance": []
  },
  "kernelspec": {
   "display_name": "Python 3",
   "language": "python",
   "name": "python3"
  },
  "language_info": {
   "codemirror_mode": {
    "name": "ipython",
    "version": 3
   },
   "file_extension": ".py",
   "mimetype": "text/x-python",
   "name": "python",
   "nbconvert_exporter": "python",
   "pygments_lexer": "ipython3",
   "version": "3.6.9"
  }
 },
 "nbformat": 4,
 "nbformat_minor": 1
}
